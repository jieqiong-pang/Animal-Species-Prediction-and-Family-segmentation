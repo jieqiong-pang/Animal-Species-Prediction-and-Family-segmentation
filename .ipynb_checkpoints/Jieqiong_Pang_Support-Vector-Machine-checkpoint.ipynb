{
 "cells": [
  {
   "cell_type": "markdown",
   "metadata": {},
   "source": [
    "# Multi-class and Multi-Label Classification Using Support Vector Machine"
   ]
  },
  {
   "cell_type": "markdown",
   "metadata": {},
   "source": [
    "## import package"
   ]
  },
  {
   "cell_type": "code",
   "execution_count": 95,
   "metadata": {
    "ExecuteTime": {
     "end_time": "2019-11-02T20:08:55.350338Z",
     "start_time": "2019-11-02T20:08:55.276076Z"
    }
   },
   "outputs": [],
   "source": [
    "import warnings\n",
    "warnings.filterwarnings('ignore')\n",
    "import pandas as pd\n",
    "from sklearn import svm\n",
    "from sklearn.metrics import hamming_loss\n",
    "from sklearn.metrics import accuracy_score\n",
    "from sklearn.preprocessing import StandardScaler\n",
    "import numpy as np\n",
    "from sklearn.model_selection import GridSearchCV\n",
    "from sklearn.svm import LinearSVC\n",
    "from imblearn.over_sampling import SMOTE"
   ]
  },
  {
   "cell_type": "markdown",
   "metadata": {},
   "source": [
    "## Split traning and test set"
   ]
  },
  {
   "cell_type": "code",
   "execution_count": null,
   "metadata": {},
   "outputs": [],
   "source": [
    "df=pd.read_csv('Frogs_MFCCs.csv')\n",
    "df_train=df.sample(frac=0.7, replace=False, random_state=1)\n",
    "df_test=df.drop(df_train.index)\n",
    "x_train=df_train.iloc[:,:-4]\n",
    "x_test=df_test.iloc[:,:-4]"
   ]
  },
  {
   "cell_type": "markdown",
   "metadata": {},
   "source": [
    "## train a classifier for each label for multi-calss classification"
   ]
  },
  {
   "cell_type": "markdown",
   "metadata": {},
   "source": [
    "### research exact match and hamming score/loss for evaluating multi-label classification"
   ]
  },
  {
   "cell_type": "markdown",
   "metadata": {},
   "source": [
    "#### Family"
   ]
  },
  {
   "cell_type": "code",
   "execution_count": 96,
   "metadata": {
    "ExecuteTime": {
     "end_time": "2019-11-02T20:08:57.895843Z",
     "start_time": "2019-11-02T20:08:57.346299Z"
    }
   },
   "outputs": [
    {
     "name": "stdout",
     "output_type": "stream",
     "text": [
      "Family hamming loss: 0.07503473830477073\n",
      "Family exact match score: 0.9249652616952293\n"
     ]
    }
   ],
   "source": [
    "# Family\n",
    "y_train_Family = df_train[[\"Family\"]]\n",
    "y_test_Family=df_test[[\"Family\"]]\n",
    "\n",
    "svc = svm.SVC(gamma='auto')\n",
    "model_Family = svc.fit(x_train, y_train_Family)\n",
    "y_predict_Family = model_Family.predict(x_test)\n",
    "\n",
    "hamming_loss_Family=hamming_loss(y_test_Family, y_predict_Family)\n",
    "exact_match_score_Family=accuracy_score(y_test_Family, y_predict_Family)\n",
    "print('Family hamming loss:',hamming_loss_Family)\n",
    "print('Family exact match score:',exact_match_score_Family)"
   ]
  },
  {
   "cell_type": "markdown",
   "metadata": {},
   "source": [
    "#### Genus"
   ]
  },
  {
   "cell_type": "code",
   "execution_count": 97,
   "metadata": {
    "ExecuteTime": {
     "end_time": "2019-11-02T20:08:59.781291Z",
     "start_time": "2019-11-02T20:08:59.203819Z"
    }
   },
   "outputs": [
    {
     "name": "stdout",
     "output_type": "stream",
     "text": [
      "Genus hamming loss: 0.09448818897637795\n",
      "Genus exact match score: 0.905511811023622\n"
     ]
    }
   ],
   "source": [
    "# Genus\n",
    "y_train_Genus = df_train[[\"Genus\"]]\n",
    "y_test_Genus=df_test[[\"Genus\"]]\n",
    "\n",
    "svc = svm.SVC(gamma='auto')\n",
    "model_Genus = svc.fit(x_train, y_train_Genus)\n",
    "y_predict_Genus = model_Genus.predict(x_test)\n",
    "\n",
    "hamming_loss_Genus=hamming_loss(y_test_Genus, y_predict_Genus)\n",
    "exact_match_score_Genus=accuracy_score(y_test_Genus, y_predict_Genus)\n",
    "print('Genus hamming loss:',hamming_loss_Genus)\n",
    "print('Genus exact match score:',exact_match_score_Genus)"
   ]
  },
  {
   "cell_type": "markdown",
   "metadata": {},
   "source": [
    "#### Species"
   ]
  },
  {
   "cell_type": "code",
   "execution_count": 98,
   "metadata": {
    "ExecuteTime": {
     "end_time": "2019-11-02T20:09:00.899550Z",
     "start_time": "2019-11-02T20:09:00.419264Z"
    }
   },
   "outputs": [
    {
     "name": "stdout",
     "output_type": "stream",
     "text": [
      "Species hamming loss: 0.08337193144974525\n",
      "Species exact match score: 0.9166280685502547\n"
     ]
    }
   ],
   "source": [
    "# Species\n",
    "y_train_Species = df_train[[\"Species\"]]\n",
    "y_test_Species=df_test[[\"Species\"]]\n",
    "\n",
    "svc = svm.SVC(gamma='auto')\n",
    "model_Species = svc.fit(x_train, y_train_Species)\n",
    "y_predict_Species = model_Species.predict(x_test)\n",
    "\n",
    "hamming_loss_Species=hamming_loss(y_test_Species, y_predict_Species)\n",
    "exact_match_score_Species=accuracy_score(y_test_Species, y_predict_Species)\n",
    "print('Species hamming loss:',hamming_loss_Species)\n",
    "print('Species exact match score:',exact_match_score_Species)"
   ]
  },
  {
   "cell_type": "markdown",
   "metadata": {},
   "source": [
    "### Train SVM for each of labels, using Gaussian kernels and one versus all classifiers(standarduzed and raw attributes)"
   ]
  },
  {
   "cell_type": "code",
   "execution_count": 99,
   "metadata": {
    "ExecuteTime": {
     "end_time": "2019-11-02T20:09:03.843899Z",
     "start_time": "2019-11-02T20:09:03.828412Z"
    }
   },
   "outputs": [],
   "source": [
    "# standarlize features\n",
    "scaler = StandardScaler()\n",
    "model_train=scaler.fit(x_train)\n",
    "train=model_train.transform(x_train)\n",
    "std_x_train=pd.DataFrame(train)\n",
    "\n",
    "model_test=scaler.fit(x_test)\n",
    "test=model_test.transform(x_test)\n",
    "std_x_test=pd.DataFrame(test)"
   ]
  },
  {
   "cell_type": "markdown",
   "metadata": {},
   "source": [
    "#### Family"
   ]
  },
  {
   "cell_type": "code",
   "execution_count": 128,
   "metadata": {
    "ExecuteTime": {
     "end_time": "2019-11-03T06:58:29.836819Z",
     "start_time": "2019-11-03T06:45:56.248105Z"
    }
   },
   "outputs": [
    {
     "name": "stdout",
     "output_type": "stream",
     "text": [
      "Family best paramters: {'C': 10.0, 'gamma': 2.0, 'kernel': 'rbf'}\n"
     ]
    }
   ],
   "source": [
    "# Family (raw attributes)\n",
    "parameters={'kernel':['rbf'],'C':np.logspace(-3,6,10),'gamma':np.linspace(0.1,2,20)}\n",
    "clf_Family = GridSearchCV(svm.SVC(), param_grid=parameters, cv=10)\n",
    "model_clf_Family=clf_Family.fit(x_train, y_train_Family)\n",
    "best_params_Family=model_clf_Family.best_params_\n",
    "print('Family best paramters:',best_params_Family)"
   ]
  },
  {
   "cell_type": "code",
   "execution_count": 129,
   "metadata": {
    "ExecuteTime": {
     "end_time": "2019-11-03T07:57:28.171052Z",
     "start_time": "2019-11-03T07:04:53.807948Z"
    }
   },
   "outputs": [
    {
     "name": "stdout",
     "output_type": "stream",
     "text": [
      "Family std best paramters: {'C': 10.0, 'gamma': 0.1, 'kernel': 'rbf'}\n"
     ]
    }
   ],
   "source": [
    "# Family (standardized attributes)\n",
    "model_std_clf_Family=clf_Family.fit(std_x_train, y_train_Family)\n",
    "std_best_params_Family=model_std_clf_Family.best_params_\n",
    "print('Family std best paramters:',std_best_params_Family)"
   ]
  },
  {
   "cell_type": "markdown",
   "metadata": {},
   "source": [
    "#### Genus"
   ]
  },
  {
   "cell_type": "code",
   "execution_count": 130,
   "metadata": {
    "ExecuteTime": {
     "end_time": "2019-11-03T08:15:24.790070Z",
     "start_time": "2019-11-03T08:00:54.518240Z"
    }
   },
   "outputs": [
    {
     "name": "stdout",
     "output_type": "stream",
     "text": [
      "Genus best paramters: {'C': 10.0, 'gamma': 1.0999999999999999, 'kernel': 'rbf'}\n"
     ]
    }
   ],
   "source": [
    "# Genus (raw attributes)\n",
    "parameters={'kernel':['rbf'],'C':np.logspace(-3,6,10),'gamma':np.linspace(0.1,2,20)}\n",
    "clf_Genus = GridSearchCV(svm.SVC(), param_grid=parameters, cv=10)\n",
    "model_clf_Genus=clf_Genus.fit(x_train, y_train_Genus)\n",
    "best_params_Genus=model_clf_Genus.best_params_\n",
    "print('Genus best paramters:',best_params_Genus)"
   ]
  },
  {
   "cell_type": "code",
   "execution_count": 131,
   "metadata": {
    "ExecuteTime": {
     "end_time": "2019-11-03T09:27:33.099234Z",
     "start_time": "2019-11-03T08:15:24.793677Z"
    }
   },
   "outputs": [
    {
     "name": "stdout",
     "output_type": "stream",
     "text": [
      "Genus std best paramters: {'C': 10.0, 'gamma': 0.1, 'kernel': 'rbf'}\n"
     ]
    }
   ],
   "source": [
    "# Genus (standardized attributes)\n",
    "model_std_clf_Genus=clf_Genus.fit(std_x_train, y_train_Genus)\n",
    "std_best_params_Genus=model_std_clf_Genus.best_params_\n",
    "print('Genus std best paramters:',std_best_params_Genus)"
   ]
  },
  {
   "cell_type": "markdown",
   "metadata": {},
   "source": [
    "#### Species"
   ]
  },
  {
   "cell_type": "code",
   "execution_count": 132,
   "metadata": {
    "ExecuteTime": {
     "end_time": "2019-11-03T09:42:17.199690Z",
     "start_time": "2019-11-03T09:27:33.101039Z"
    }
   },
   "outputs": [
    {
     "name": "stdout",
     "output_type": "stream",
     "text": [
      "Species best paramters: {'C': 10.0, 'gamma': 1.0999999999999999, 'kernel': 'rbf'}\n"
     ]
    }
   ],
   "source": [
    "# Species (raw attributes)\n",
    "parameters={'kernel':['rbf'],'C':np.logspace(-3,6,10),'gamma':np.linspace(0.1,2,20)}\n",
    "clf_Species = GridSearchCV(svm.SVC(), param_grid=parameters, cv=10)\n",
    "model_clf_Species=clf_Genus.fit(x_train, y_train_Species)\n",
    "best_params_Species=model_clf_Species.best_params_\n",
    "print('Species best paramters:',best_params_Species)"
   ]
  },
  {
   "cell_type": "code",
   "execution_count": 133,
   "metadata": {
    "ExecuteTime": {
     "end_time": "2019-11-03T10:51:22.045643Z",
     "start_time": "2019-11-03T09:42:17.201596Z"
    }
   },
   "outputs": [
    {
     "name": "stdout",
     "output_type": "stream",
     "text": [
      "Species std best paramters: {'C': 10.0, 'gamma': 0.1, 'kernel': 'rbf'}\n"
     ]
    }
   ],
   "source": [
    "# Species (standardized attributes)\n",
    "model_std_clf_Species=clf_Genus.fit(std_x_train, y_train_Genus)\n",
    "std_best_params_Species=model_std_clf_Species.best_params_\n",
    "print('Species std best paramters:',std_best_params_Species)"
   ]
  },
  {
   "cell_type": "markdown",
   "metadata": {},
   "source": [
    "### Train L1-penalized SVMs for each of labels, using Gaussian kernels and one versus all classifiers(standarduzed and raw attributes)"
   ]
  },
  {
   "cell_type": "markdown",
   "metadata": {},
   "source": [
    "#### Family"
   ]
  },
  {
   "cell_type": "code",
   "execution_count": 114,
   "metadata": {
    "ExecuteTime": {
     "end_time": "2019-11-03T01:08:58.557667Z",
     "start_time": "2019-11-03T01:06:09.747523Z"
    }
   },
   "outputs": [
    {
     "name": "stdout",
     "output_type": "stream",
     "text": [
      "Family best paramters: {'C': 10.0}\n"
     ]
    }
   ],
   "source": [
    "# Family (raw attributes)\n",
    "parameters={'C':np.logspace(-3,6,10)}\n",
    "clf_Family = GridSearchCV(LinearSVC(penalty='l1', dual=False), param_grid=parameters, cv=10)\n",
    "model_clf_Family=clf_Family.fit(x_train, y_train_Family)\n",
    "best_params_Family=model_clf_Family.best_params_\n",
    "print('Family best paramters:',best_params_Family)"
   ]
  },
  {
   "cell_type": "code",
   "execution_count": 115,
   "metadata": {
    "ExecuteTime": {
     "end_time": "2019-11-03T01:11:05.769346Z",
     "start_time": "2019-11-03T01:08:58.559081Z"
    }
   },
   "outputs": [
    {
     "name": "stdout",
     "output_type": "stream",
     "text": [
      "Family std best paramters: {'C': 1.0}\n"
     ]
    }
   ],
   "source": [
    "# Family (standardized attributes)\n",
    "model_std_clf_Family=clf_Family.fit(std_x_train, y_train_Family)\n",
    "std_best_params_Family=model_std_clf_Family.best_params_\n",
    "print('Family std best paramters:',std_best_params_Family)"
   ]
  },
  {
   "cell_type": "markdown",
   "metadata": {},
   "source": [
    "#### Genus"
   ]
  },
  {
   "cell_type": "code",
   "execution_count": 116,
   "metadata": {
    "ExecuteTime": {
     "end_time": "2019-11-03T01:14:50.870700Z",
     "start_time": "2019-11-03T01:11:05.772260Z"
    }
   },
   "outputs": [
    {
     "name": "stdout",
     "output_type": "stream",
     "text": [
      "Genus best paramters: {'C': 1000.0}\n"
     ]
    }
   ],
   "source": [
    "# Genus (raw attributes)\n",
    "parameters={'C':np.logspace(-3,6,10)}\n",
    "clf_Genus = GridSearchCV(LinearSVC(penalty='l1', dual=False), param_grid=parameters, cv=10)\n",
    "model_clf_Genus=clf_Genus.fit(x_train, y_train_Genus)\n",
    "best_params_Genus=model_clf_Genus.best_params_\n",
    "print('Genus best paramters:',best_params_Genus)"
   ]
  },
  {
   "cell_type": "code",
   "execution_count": 117,
   "metadata": {
    "ExecuteTime": {
     "end_time": "2019-11-03T01:17:49.930927Z",
     "start_time": "2019-11-03T01:14:50.872924Z"
    }
   },
   "outputs": [
    {
     "name": "stdout",
     "output_type": "stream",
     "text": [
      "Genus std best paramters: {'C': 100.0}\n"
     ]
    }
   ],
   "source": [
    "# Genus (standardized attributes)\n",
    "model_std_clf_Genus=clf_Genus.fit(std_x_train, y_train_Genus)\n",
    "std_best_params_Genus=model_std_clf_Genus.best_params_\n",
    "print('Genus std best paramters:',std_best_params_Genus)"
   ]
  },
  {
   "cell_type": "markdown",
   "metadata": {},
   "source": [
    "#### Specises"
   ]
  },
  {
   "cell_type": "code",
   "execution_count": 118,
   "metadata": {
    "ExecuteTime": {
     "end_time": "2019-11-03T01:21:19.164289Z",
     "start_time": "2019-11-03T01:17:49.932711Z"
    }
   },
   "outputs": [
    {
     "name": "stdout",
     "output_type": "stream",
     "text": [
      "Species best paramters: {'C': 10.0}\n"
     ]
    }
   ],
   "source": [
    "# Species (raw attributes)\n",
    "parameters={'C':np.logspace(-3,6,10)}\n",
    "clf_Species = GridSearchCV(LinearSVC(penalty='l1', dual=False), param_grid=parameters, cv=10)\n",
    "model_clf_Species=clf_Genus.fit(x_train, y_train_Species)\n",
    "best_params_Species=model_clf_Species.best_params_\n",
    "print('Species best paramters:',best_params_Species)"
   ]
  },
  {
   "cell_type": "code",
   "execution_count": 119,
   "metadata": {
    "ExecuteTime": {
     "end_time": "2019-11-03T01:24:18.190066Z",
     "start_time": "2019-11-03T01:21:19.166135Z"
    }
   },
   "outputs": [
    {
     "name": "stdout",
     "output_type": "stream",
     "text": [
      "Species std best paramters: {'C': 100.0}\n"
     ]
    }
   ],
   "source": [
    "# Species (standardized attributes)\n",
    "model_std_clf_Species=clf_Genus.fit(std_x_train, y_train_Genus)\n",
    "std_best_params_Species=model_std_clf_Species.best_params_\n",
    "print('Species std best paramters:',std_best_params_Species)"
   ]
  },
  {
   "cell_type": "markdown",
   "metadata": {},
   "source": [
    "### Train L1-penalized SVMs for each of labels, using Gaussian kernels and one versus all classifiers(standarduzed and raw attributes),using SMOTE to remedy class imbalance"
   ]
  },
  {
   "cell_type": "markdown",
   "metadata": {},
   "source": [
    "#### Family"
   ]
  },
  {
   "cell_type": "code",
   "execution_count": 120,
   "metadata": {
    "ExecuteTime": {
     "end_time": "2019-11-03T01:33:32.585403Z",
     "start_time": "2019-11-03T01:24:18.192046Z"
    }
   },
   "outputs": [
    {
     "name": "stdout",
     "output_type": "stream",
     "text": [
      "SMOTE Family best paramters: {'C': 100.0}\n"
     ]
    }
   ],
   "source": [
    "smt = SMOTE()\n",
    "# Family (raw attributes)\n",
    "x_train_Family_new, y_train_Family_new = smt.fit_sample(x_train, y_train_Family)\n",
    "parameters={'C':np.logspace(-3,6,10)}\n",
    "clf_Family = GridSearchCV(LinearSVC(penalty='l1', dual=False), param_grid=parameters, cv=10)\n",
    "smote_model_clf_Family=clf_Family.fit(x_train_Family_new, y_train_Family_new)\n",
    "smote_best_params_Family=smote_model_clf_Family.best_params_\n",
    "print('SMOTE Family best paramters:',smote_best_params_Family)"
   ]
  },
  {
   "cell_type": "code",
   "execution_count": 121,
   "metadata": {
    "ExecuteTime": {
     "end_time": "2019-11-03T01:42:05.905949Z",
     "start_time": "2019-11-03T01:33:32.587116Z"
    }
   },
   "outputs": [
    {
     "name": "stdout",
     "output_type": "stream",
     "text": [
      "std SMOTE Family best paramters: {'C': 100.0}\n"
     ]
    }
   ],
   "source": [
    "# Family (standardized attributes)\n",
    "std_x_train_Family_new, std_y_train_Family_new = smt.fit_sample(std_x_train, y_train_Family)\n",
    "parameters={'C':np.logspace(-3,6,10)}\n",
    "clf_Family = GridSearchCV(LinearSVC(penalty='l1', dual=False), param_grid=parameters, cv=10)\n",
    "std_smote_model_clf_Family=clf_Family.fit(std_x_train_Family_new, std_y_train_Family_new)\n",
    "std_smote_best_params_Family=std_smote_model_clf_Family.best_params_\n",
    "print('std SMOTE Family best paramters:',std_smote_best_params_Family)"
   ]
  },
  {
   "cell_type": "markdown",
   "metadata": {},
   "source": [
    "#### Genus"
   ]
  },
  {
   "cell_type": "code",
   "execution_count": 122,
   "metadata": {
    "ExecuteTime": {
     "end_time": "2019-11-03T02:07:49.039441Z",
     "start_time": "2019-11-03T01:42:05.907579Z"
    }
   },
   "outputs": [
    {
     "name": "stdout",
     "output_type": "stream",
     "text": [
      "SMOTE Genus best paramters: {'C': 100000.0}\n"
     ]
    }
   ],
   "source": [
    "# Genus (raw attributes)\n",
    "x_train_Genus_new, y_train_Genus_new = smt.fit_sample(x_train, y_train_Genus)\n",
    "parameters={'C':np.logspace(-3,6,10)}\n",
    "clf_Genus = GridSearchCV(LinearSVC(penalty='l1', dual=False), param_grid=parameters, cv=10)\n",
    "smote_model_clf_Genus=clf_Genus.fit(x_train_Genus_new, y_train_Genus_new)\n",
    "smote_best_params_Genus=smote_model_clf_Genus.best_params_\n",
    "print('SMOTE Genus best paramters:',smote_best_params_Genus)"
   ]
  },
  {
   "cell_type": "code",
   "execution_count": 123,
   "metadata": {
    "ExecuteTime": {
     "end_time": "2019-11-03T02:30:44.698664Z",
     "start_time": "2019-11-03T02:07:49.041035Z"
    }
   },
   "outputs": [
    {
     "name": "stdout",
     "output_type": "stream",
     "text": [
      "std SMOTE Genus best paramters: {'C': 100000.0}\n"
     ]
    }
   ],
   "source": [
    "# Genus (standardized attributes)\n",
    "std_x_train_Genus_new, std_y_train_Genus_new = smt.fit_sample(std_x_train, y_train_Genus)\n",
    "parameters={'C':np.logspace(-3,6,10)}\n",
    "clf_Genus = GridSearchCV(LinearSVC(penalty='l1', dual=False), param_grid=parameters, cv=10)\n",
    "std_smote_model_clf_Genus=clf_Genus.fit(std_x_train_Genus_new, std_y_train_Genus_new)\n",
    "std_smote_best_params_Genus=std_smote_model_clf_Genus.best_params_\n",
    "print('std SMOTE Genus best paramters:',std_smote_best_params_Genus)"
   ]
  },
  {
   "cell_type": "markdown",
   "metadata": {},
   "source": [
    "#### Species"
   ]
  },
  {
   "cell_type": "code",
   "execution_count": 124,
   "metadata": {
    "ExecuteTime": {
     "end_time": "2019-11-03T03:00:25.948172Z",
     "start_time": "2019-11-03T02:30:44.700147Z"
    }
   },
   "outputs": [
    {
     "name": "stdout",
     "output_type": "stream",
     "text": [
      "SMOTE Species best paramters: {'C': 100.0}\n"
     ]
    }
   ],
   "source": [
    "# Species (raw attributes)\n",
    "x_train_Species_new, y_train_Species_new = smt.fit_sample(x_train, y_train_Species)\n",
    "parameters={'C':np.logspace(-3,6,10)}\n",
    "clf_Genus = GridSearchCV(LinearSVC(penalty='l1', dual=False), param_grid=parameters, cv=10)\n",
    "smote_model_clf_Species=clf_Species.fit(x_train_Species_new, y_train_Species_new)\n",
    "smote_best_params_Species=smote_model_clf_Species.best_params_\n",
    "print('SMOTE Species best paramters:',smote_best_params_Species)"
   ]
  },
  {
   "cell_type": "code",
   "execution_count": 125,
   "metadata": {
    "ExecuteTime": {
     "end_time": "2019-11-03T03:27:44.146256Z",
     "start_time": "2019-11-03T03:00:25.949741Z"
    }
   },
   "outputs": [
    {
     "name": "stdout",
     "output_type": "stream",
     "text": [
      "std SMOTE Species best paramters: {'C': 10.0}\n"
     ]
    }
   ],
   "source": [
    "# Species (standardized attributes)\n",
    "std_x_train_Species_new, std_y_train_Species_new = smt.fit_sample(std_x_train, y_train_Species)\n",
    "parameters={'C':np.logspace(-3,6,10)}\n",
    "clf_Species = GridSearchCV(LinearSVC(penalty='l1', dual=False), param_grid=parameters, cv=10)\n",
    "std_smote_model_clf_Species=clf_Species.fit(std_x_train_Species_new, std_y_train_Species_new)\n",
    "std_smote_best_params_Species=std_smote_model_clf_Species.best_params_\n",
    "print('std SMOTE Species best paramters:',std_smote_best_params_Species)"
   ]
  }
 ],
 "metadata": {
  "kernelspec": {
   "display_name": "Python 3",
   "language": "python",
   "name": "python3"
  },
  "language_info": {
   "codemirror_mode": {
    "name": "ipython",
    "version": 3
   },
   "file_extension": ".py",
   "mimetype": "text/x-python",
   "name": "python",
   "nbconvert_exporter": "python",
   "pygments_lexer": "ipython3",
   "version": "3.7.1"
  },
  "toc": {
   "base_numbering": 1,
   "nav_menu": {
    "height": "107px",
    "width": "210px"
   },
   "number_sections": true,
   "sideBar": true,
   "skip_h1_title": false,
   "title_cell": "Table of Contents",
   "title_sidebar": "Contents",
   "toc_cell": false,
   "toc_position": {},
   "toc_section_display": true,
   "toc_window_display": false
  }
 },
 "nbformat": 4,
 "nbformat_minor": 2
}
